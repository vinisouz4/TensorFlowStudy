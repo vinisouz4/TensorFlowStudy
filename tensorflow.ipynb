{
  "nbformat": 4,
  "nbformat_minor": 0,
  "metadata": {
    "colab": {
      "provenance": [],
      "authorship_tag": "ABX9TyMwXDJx+OKwrT9WHbdb1CNa",
      "include_colab_link": true
    },
    "kernelspec": {
      "name": "python3",
      "display_name": "Python 3"
    },
    "language_info": {
      "name": "python"
    }
  },
  "cells": [
    {
      "cell_type": "markdown",
      "metadata": {
        "id": "view-in-github",
        "colab_type": "text"
      },
      "source": [
        "<a href=\"https://colab.research.google.com/github/vinisouz4/TensorFlowStudy/blob/main/tensorflow.ipynb\" target=\"_parent\"><img src=\"https://colab.research.google.com/assets/colab-badge.svg\" alt=\"Open In Colab\"/></a>"
      ]
    },
    {
      "cell_type": "markdown",
      "source": [
        "# Constantes"
      ],
      "metadata": {
        "id": "1czM55Dp6Su5"
      }
    },
    {
      "cell_type": "code",
      "execution_count": 54,
      "metadata": {
        "id": "X6nhjui16IRm"
      },
      "outputs": [],
      "source": [
        "import tensorflow as tf"
      ]
    },
    {
      "cell_type": "code",
      "source": [
        "# Criando as constantes\n",
        "valor1 = tf.constant(2)\n",
        "valor2 = tf.constant(3)"
      ],
      "metadata": {
        "id": "HPEJQXUM6RkP"
      },
      "execution_count": 55,
      "outputs": []
    },
    {
      "cell_type": "code",
      "source": [
        "# printando os valores das constantes\n",
        "print(valor1)\n",
        "print(valor2)\n",
        "\n",
        "# Shape => é o tamanho ou o formato da constante, e está vazio porque é numero escalar"
      ],
      "metadata": {
        "colab": {
          "base_uri": "https://localhost:8080/"
        },
        "id": "E1uoD3S960vq",
        "outputId": "b565bd27-53fa-4d20-ae2d-1bbbed939d2e"
      },
      "execution_count": 56,
      "outputs": [
        {
          "output_type": "stream",
          "name": "stdout",
          "text": [
            "tf.Tensor(2, shape=(), dtype=int32)\n",
            "tf.Tensor(3, shape=(), dtype=int32)\n"
          ]
        }
      ]
    },
    {
      "cell_type": "code",
      "source": [
        "# Somando os valores das constantes\n",
        "# Aqui ele gera um grafo\n",
        "soma = valor1 + valor2"
      ],
      "metadata": {
        "id": "UjVfYsrS7DhY"
      },
      "execution_count": 57,
      "outputs": []
    },
    {
      "cell_type": "code",
      "source": [
        "soma"
      ],
      "metadata": {
        "colab": {
          "base_uri": "https://localhost:8080/"
        },
        "id": "x1Dcj6VM7YUY",
        "outputId": "2466a586-841d-4dff-d667-19cacd733107"
      },
      "execution_count": 58,
      "outputs": [
        {
          "output_type": "execute_result",
          "data": {
            "text/plain": [
              "<tf.Tensor: shape=(), dtype=int32, numpy=5>"
            ]
          },
          "metadata": {},
          "execution_count": 58
        }
      ]
    },
    {
      "cell_type": "code",
      "source": [
        "texto1 = tf.constant('Texto 1 ')\n",
        "texto2 = tf.constant('Texto 2')"
      ],
      "metadata": {
        "id": "TEN_69hoA6ay"
      },
      "execution_count": 59,
      "outputs": []
    },
    {
      "cell_type": "code",
      "source": [
        "texto1"
      ],
      "metadata": {
        "colab": {
          "base_uri": "https://localhost:8080/"
        },
        "id": "T2arD5P-BZUK",
        "outputId": "0919e8c6-6d37-458f-bc15-ffb66119b248"
      },
      "execution_count": 60,
      "outputs": [
        {
          "output_type": "execute_result",
          "data": {
            "text/plain": [
              "<tf.Tensor: shape=(), dtype=string, numpy=b'Texto 1 '>"
            ]
          },
          "metadata": {},
          "execution_count": 60
        }
      ]
    },
    {
      "cell_type": "code",
      "source": [
        "# Concatenar duas strings com o tensorflow\n",
        "# b -> bites literal\n",
        "concat = texto1 + texto2\n",
        "concat"
      ],
      "metadata": {
        "colab": {
          "base_uri": "https://localhost:8080/"
        },
        "id": "LwOwyLAlBbpV",
        "outputId": "38a6e644-2ce4-4612-91d0-d9ea9933ee2b"
      },
      "execution_count": 61,
      "outputs": [
        {
          "output_type": "execute_result",
          "data": {
            "text/plain": [
              "<tf.Tensor: shape=(), dtype=string, numpy=b'Texto 1 Texto 2'>"
            ]
          },
          "metadata": {},
          "execution_count": 61
        }
      ]
    },
    {
      "cell_type": "markdown",
      "source": [
        "# Variaveis"
      ],
      "metadata": {
        "id": "30yPH6BwCedq"
      }
    },
    {
      "cell_type": "code",
      "source": [
        "\n",
        "# Sempre colocar o parametro *name* o nome da variavel para facilitar em projetos maiores\n",
        "valor1 = tf.constant(15, name='valor1')\n",
        "print(valor1)"
      ],
      "metadata": {
        "colab": {
          "base_uri": "https://localhost:8080/"
        },
        "id": "clXBmSOtDLSm",
        "outputId": "5b037175-f72a-41d4-becd-a7585f98c3c4"
      },
      "execution_count": 62,
      "outputs": [
        {
          "output_type": "stream",
          "name": "stdout",
          "text": [
            "tf.Tensor(15, shape=(), dtype=int32)\n"
          ]
        }
      ]
    },
    {
      "cell_type": "code",
      "source": [
        "# Definindo variaveis no TensorFlow, no qual ele define como será o grafo, já com a criação de sessão\n",
        "soma = tf.Variable(valor1 + 5, name=\"valor1\")\n",
        "soma"
      ],
      "metadata": {
        "colab": {
          "base_uri": "https://localhost:8080/"
        },
        "id": "4xBqJjDuDt0d",
        "outputId": "560ddc65-1e77-42db-a86f-e24bd70ec839"
      },
      "execution_count": 63,
      "outputs": [
        {
          "output_type": "execute_result",
          "data": {
            "text/plain": [
              "<tf.Variable 'valor1:0' shape=() dtype=int32, numpy=20>"
            ]
          },
          "metadata": {},
          "execution_count": 63
        }
      ]
    },
    {
      "cell_type": "code",
      "source": [
        "# No retorno é mostrado que tem uma lista (vetor), no parametro shape me mostra que temos 3 itens dentro do meu vetor\n",
        "vetor = tf.constant([5, 10, 15], name='vetor')\n",
        "vetor"
      ],
      "metadata": {
        "colab": {
          "base_uri": "https://localhost:8080/"
        },
        "id": "Ke6S_HeAE147",
        "outputId": "c82e86a1-1a97-4d67-d2b4-e5e80954a7f0"
      },
      "execution_count": 64,
      "outputs": [
        {
          "output_type": "execute_result",
          "data": {
            "text/plain": [
              "<tf.Tensor: shape=(3,), dtype=int32, numpy=array([ 5, 10, 15], dtype=int32)>"
            ]
          },
          "metadata": {},
          "execution_count": 64
        }
      ]
    },
    {
      "cell_type": "code",
      "source": [
        "# Criar uma soma no qual pegue todos os meus valores do vetor e some por 5\n",
        "soma = tf.Variable(vetor + 5, name='soma')\n",
        "soma"
      ],
      "metadata": {
        "colab": {
          "base_uri": "https://localhost:8080/"
        },
        "id": "QitowlsMFwm3",
        "outputId": "75410767-f70c-4614-c7c4-e32cd7fe0320"
      },
      "execution_count": 65,
      "outputs": [
        {
          "output_type": "execute_result",
          "data": {
            "text/plain": [
              "<tf.Variable 'soma:0' shape=(3,) dtype=int32, numpy=array([10, 15, 20], dtype=int32)>"
            ]
          },
          "metadata": {},
          "execution_count": 65
        }
      ]
    },
    {
      "cell_type": "code",
      "source": [
        "valor = tf.Variable(0, name='valor')\n",
        "\n",
        "# Looping no qual ele pega um range e incrementa na minha variabel\n",
        "for i in range(5):\n",
        "  valor = valor + 1\n",
        "  print(valor)"
      ],
      "metadata": {
        "colab": {
          "base_uri": "https://localhost:8080/"
        },
        "id": "7IcI6nYkGPpb",
        "outputId": "89868571-3c14-4848-8038-cb4833a0005c"
      },
      "execution_count": 66,
      "outputs": [
        {
          "output_type": "stream",
          "name": "stdout",
          "text": [
            "tf.Tensor(1, shape=(), dtype=int32)\n",
            "tf.Tensor(2, shape=(), dtype=int32)\n",
            "tf.Tensor(3, shape=(), dtype=int32)\n",
            "tf.Tensor(4, shape=(), dtype=int32)\n",
            "tf.Tensor(5, shape=(), dtype=int32)\n"
          ]
        }
      ]
    },
    {
      "cell_type": "markdown",
      "source": [
        "# Adição de Vetores e Matrizes"
      ],
      "metadata": {
        "id": "W9nLEtqOHfUs"
      }
    },
    {
      "cell_type": "code",
      "source": [
        "a = tf.constant([9,8,7], name='a')\n",
        "b = tf.constant([1,2,3], name='b')"
      ],
      "metadata": {
        "id": "C72cYEdMHFRx"
      },
      "execution_count": 67,
      "outputs": []
    },
    {
      "cell_type": "code",
      "source": [
        "# Vou fazer a soma dos itens da minha lista a com a minha lista b\n",
        "soma = a + b\n",
        "soma"
      ],
      "metadata": {
        "colab": {
          "base_uri": "https://localhost:8080/"
        },
        "id": "IisuHU86Hr19",
        "outputId": "4a4e7fa2-ce3c-49d2-db84-b03351349faa"
      },
      "execution_count": 68,
      "outputs": [
        {
          "output_type": "execute_result",
          "data": {
            "text/plain": [
              "<tf.Tensor: shape=(3,), dtype=int32, numpy=array([10, 10, 10], dtype=int32)>"
            ]
          },
          "metadata": {},
          "execution_count": 68
        }
      ]
    },
    {
      "cell_type": "code",
      "source": [
        "# No parametro shape ele me mostra que temos duas colunas (duas listas) com 3 itens dentro delas\n",
        "a1 = tf.constant([[1,2,3], [4,5,6]], name = 'a1')\n",
        "a1"
      ],
      "metadata": {
        "colab": {
          "base_uri": "https://localhost:8080/"
        },
        "id": "WNXmq4enHylx",
        "outputId": "d9a9630b-e12f-4dcd-aafc-006f6cc50817"
      },
      "execution_count": 69,
      "outputs": [
        {
          "output_type": "execute_result",
          "data": {
            "text/plain": [
              "<tf.Tensor: shape=(2, 3), dtype=int32, numpy=\n",
              "array([[1, 2, 3],\n",
              "       [4, 5, 6]], dtype=int32)>"
            ]
          },
          "metadata": {},
          "execution_count": 69
        }
      ]
    },
    {
      "cell_type": "code",
      "source": [
        "a1.shape"
      ],
      "metadata": {
        "colab": {
          "base_uri": "https://localhost:8080/"
        },
        "id": "FEnz7RgaIhYu",
        "outputId": "c64087ee-9a81-4f79-9232-454efdd9e38f"
      },
      "execution_count": 70,
      "outputs": [
        {
          "output_type": "execute_result",
          "data": {
            "text/plain": [
              "TensorShape([2, 3])"
            ]
          },
          "metadata": {},
          "execution_count": 70
        }
      ]
    },
    {
      "cell_type": "code",
      "source": [
        "b1 = tf.constant([[1,2,3], [4,5,6]], name=\"b1\")\n",
        "b1"
      ],
      "metadata": {
        "colab": {
          "base_uri": "https://localhost:8080/"
        },
        "id": "S7rvzwUPIrOA",
        "outputId": "823015c4-3138-4a40-afb2-cc50152cda6f"
      },
      "execution_count": 71,
      "outputs": [
        {
          "output_type": "execute_result",
          "data": {
            "text/plain": [
              "<tf.Tensor: shape=(2, 3), dtype=int32, numpy=\n",
              "array([[1, 2, 3],\n",
              "       [4, 5, 6]], dtype=int32)>"
            ]
          },
          "metadata": {},
          "execution_count": 71
        }
      ]
    },
    {
      "cell_type": "code",
      "source": [
        "# O parametro .add é uma soma usando as prioridades do TensorFlow\n",
        "soma = tf.add(a1, b1)\n",
        "soma"
      ],
      "metadata": {
        "colab": {
          "base_uri": "https://localhost:8080/"
        },
        "id": "6GEaytgzI0--",
        "outputId": "dd8e3317-c1ca-41eb-dec0-10b14160411f"
      },
      "execution_count": 72,
      "outputs": [
        {
          "output_type": "execute_result",
          "data": {
            "text/plain": [
              "<tf.Tensor: shape=(2, 3), dtype=int32, numpy=\n",
              "array([[ 2,  4,  6],\n",
              "       [ 8, 10, 12]], dtype=int32)>"
            ]
          },
          "metadata": {},
          "execution_count": 72
        }
      ]
    },
    {
      "cell_type": "code",
      "source": [
        "soma.numpy()"
      ],
      "metadata": {
        "colab": {
          "base_uri": "https://localhost:8080/"
        },
        "id": "anUvTx1VI9HW",
        "outputId": "98506608-4373-4d2f-90ca-7dd625e87dac"
      },
      "execution_count": 73,
      "outputs": [
        {
          "output_type": "execute_result",
          "data": {
            "text/plain": [
              "array([[ 2,  4,  6],\n",
              "       [ 8, 10, 12]], dtype=int32)"
            ]
          },
          "metadata": {},
          "execution_count": 73
        }
      ]
    },
    {
      "cell_type": "code",
      "source": [
        "a2 = tf.constant([[1,2,3], [4,5,6]], name='a2')\n",
        "b2 = tf.constant([[1], [2]], name='b2')\n",
        "soma = tf.add(a2, b2)\n",
        "soma\n",
        "\n",
        "# with tf.compat.v1.Session() as sess:\n",
        "#   print(sess.run(soma))"
      ],
      "metadata": {
        "colab": {
          "base_uri": "https://localhost:8080/"
        },
        "id": "r3sp_o1vJjHB",
        "outputId": "3638cbf9-52a0-40a7-c773-0aa5d6f6259f"
      },
      "execution_count": 78,
      "outputs": [
        {
          "output_type": "execute_result",
          "data": {
            "text/plain": [
              "<tf.Tensor: shape=(2, 3), dtype=int32, numpy=\n",
              "array([[2, 3, 4],\n",
              "       [6, 7, 8]], dtype=int32)>"
            ]
          },
          "metadata": {},
          "execution_count": 78
        }
      ]
    },
    {
      "cell_type": "markdown",
      "source": [
        "# Multiplicações de Matrizes"
      ],
      "metadata": {
        "id": "iu3wtyTzKwVh"
      }
    },
    {
      "cell_type": "code",
      "source": [
        "a = tf.constant([[1,2], [3,4]], name='a')\n",
        "b = tf.constant([[-1,3], [4,2]], name='b')"
      ],
      "metadata": {
        "id": "Pd9cdyPsKXVm"
      },
      "execution_count": 79,
      "outputs": []
    },
    {
      "cell_type": "code",
      "source": [
        "# Realizando a multiplicação entre matrizes entre A e B\n",
        "multiplicacao = tf.matmul(a,b)\n",
        "multiplicacao"
      ],
      "metadata": {
        "colab": {
          "base_uri": "https://localhost:8080/"
        },
        "id": "eEAkUN4ULBT_",
        "outputId": "31370172-3669-48d9-e75b-0a0e66361d8d"
      },
      "execution_count": 82,
      "outputs": [
        {
          "output_type": "execute_result",
          "data": {
            "text/plain": [
              "<tf.Tensor: shape=(2, 2), dtype=int32, numpy=\n",
              "array([[ 7,  7],\n",
              "       [13, 17]], dtype=int32)>"
            ]
          },
          "metadata": {},
          "execution_count": 82
        }
      ]
    },
    {
      "cell_type": "code",
      "source": [
        "multiplicacao2 = tf.matmul(b,a)\n",
        "multiplicacao2"
      ],
      "metadata": {
        "colab": {
          "base_uri": "https://localhost:8080/"
        },
        "id": "Zxg4NaT4LOEt",
        "outputId": "e1577ec3-18cc-42c8-a3c2-7a7ae40b9d61"
      },
      "execution_count": 83,
      "outputs": [
        {
          "output_type": "execute_result",
          "data": {
            "text/plain": [
              "<tf.Tensor: shape=(2, 2), dtype=int32, numpy=\n",
              "array([[ 8, 10],\n",
              "       [10, 16]], dtype=int32)>"
            ]
          },
          "metadata": {},
          "execution_count": 83
        }
      ]
    },
    {
      "cell_type": "code",
      "source": [
        "a1 = tf.constant([[2,3], [0,1], [-1,4]])\n",
        "b1 = tf.constant([[1,2,3], [-2,0,4]])\n",
        "multiplicacao3 = tf.matmul(a1,b1)\n",
        "multiplicacao3"
      ],
      "metadata": {
        "colab": {
          "base_uri": "https://localhost:8080/"
        },
        "id": "jMRqeUf0Mtv4",
        "outputId": "2a77079a-a42a-45c2-8b89-629eff14f8c1"
      },
      "execution_count": 84,
      "outputs": [
        {
          "output_type": "execute_result",
          "data": {
            "text/plain": [
              "<tf.Tensor: shape=(3, 3), dtype=int32, numpy=\n",
              "array([[-4,  4, 18],\n",
              "       [-2,  0,  4],\n",
              "       [-9, -2, 13]], dtype=int32)>"
            ]
          },
          "metadata": {},
          "execution_count": 84
        }
      ]
    },
    {
      "cell_type": "markdown",
      "source": [
        "# Produto Escalar"
      ],
      "metadata": {
        "id": "dFxUvee1N3dL"
      }
    },
    {
      "cell_type": "code",
      "source": [
        "a = tf.constant([-1.0, 7.0, 5.0], name=\"entradas\")\n",
        "b = tf.constant([0.8, 0.1, 0.0], name=\"pesos\")\n",
        "multiplicacao = tf.multiply(a,b)\n",
        "multiplicacao"
      ],
      "metadata": {
        "colab": {
          "base_uri": "https://localhost:8080/"
        },
        "id": "Qr5HoGjQNSQF",
        "outputId": "810fa379-482a-49a4-bf2c-baafeba0045b"
      },
      "execution_count": 90,
      "outputs": [
        {
          "output_type": "execute_result",
          "data": {
            "text/plain": [
              "<tf.Tensor: shape=(3,), dtype=float32, numpy=array([-0.8,  0.7,  0. ], dtype=float32)>"
            ]
          },
          "metadata": {},
          "execution_count": 90
        }
      ]
    },
    {
      "cell_type": "code",
      "source": [
        "# Somar os valores da multiplicacao\n",
        "somaa = tf.reduce_sum(multiplicacao)\n",
        "somaa"
      ],
      "metadata": {
        "colab": {
          "base_uri": "https://localhost:8080/"
        },
        "id": "JIC_oY9FPJ3I",
        "outputId": "6b95510b-59ab-4aea-bbb9-662fce38d2d8"
      },
      "execution_count": 91,
      "outputs": [
        {
          "output_type": "execute_result",
          "data": {
            "text/plain": [
              "<tf.Tensor: shape=(), dtype=float32, numpy=-0.10000002384185791>"
            ]
          },
          "metadata": {},
          "execution_count": 91
        }
      ]
    },
    {
      "cell_type": "markdown",
      "source": [
        "# Placeholder (Tradução Literal: Espaço reservado)"
      ],
      "metadata": {
        "id": "t81nYnG_Shmn"
      }
    },
    {
      "cell_type": "code",
      "source": [
        "# Desativo o eager que executa o o tensorflow na versão 1.x\n",
        "tf.compat.v1.disable_eager_execution()"
      ],
      "metadata": {
        "id": "UDR_9b4nQjcK"
      },
      "execution_count": 95,
      "outputs": []
    },
    {
      "cell_type": "code",
      "source": [
        "# Criando um placeholder, no qual será esperado um valor em tipo float, mas no Tensor 2.x é usado tf.constant\n",
        "# O None eu deixo especificado que meu placeholder não tem um limite de tamanho, podendo ser vetores e matrizes de diversos tamanhos\n",
        "p = tf.compat.v1.placeholder('float', None)"
      ],
      "metadata": {
        "id": "iJkjK5JpSpEZ"
      },
      "execution_count": 97,
      "outputs": []
    },
    {
      "cell_type": "code",
      "source": [
        "operacao  = p + 2"
      ],
      "metadata": {
        "id": "stif3DmQTlZs"
      },
      "execution_count": 98,
      "outputs": []
    },
    {
      "cell_type": "code",
      "source": [
        "operacao"
      ],
      "metadata": {
        "colab": {
          "base_uri": "https://localhost:8080/"
        },
        "id": "bXNdJNbwT8rT",
        "outputId": "f3ff38c4-0cca-4904-bcf7-3be3d7fb6041"
      },
      "execution_count": 99,
      "outputs": [
        {
          "output_type": "execute_result",
          "data": {
            "text/plain": [
              "<tf.Tensor 'add_1:0' shape=<unknown> dtype=float32>"
            ]
          },
          "metadata": {},
          "execution_count": 99
        }
      ]
    },
    {
      "cell_type": "code",
      "source": [
        "# Para o placeholder ser executado, eu preciso passar para ele os valores que eu desejo fazer as movimentações\n",
        "# No caso eu preciso passar um dicionario com os valores que eu preciso que seja calculado\n",
        "with tf.compat.v1.Session() as sess:\n",
        "  resultado = sess.run(operacao, feed_dict={p: [1,2,3]})\n",
        "  print(resultado)"
      ],
      "metadata": {
        "colab": {
          "base_uri": "https://localhost:8080/"
        },
        "id": "1ejuvPCVT9W2",
        "outputId": "df8e7008-34e0-45fd-ca79-01277c6139ca"
      },
      "execution_count": 102,
      "outputs": [
        {
          "output_type": "stream",
          "name": "stdout",
          "text": [
            "[3. 4. 5.]\n"
          ]
        }
      ]
    },
    {
      "cell_type": "code",
      "source": [
        "# Se eu crio um Placeholder especificando o tamanho do meu placeholder, eu tenho que passar o mesmo tamanho quando for para definir o valor do Placeholder\n",
        "p1 = tf.compat.v1.placeholder('float', 1)\n",
        "operacao1 = p1 + 2\n",
        "\n",
        "with tf.compat.v1.Session() as sess:\n",
        "  resultado = sess.run(operacao, feed_dict={p: [1]})\n",
        "  print(resultado)"
      ],
      "metadata": {
        "colab": {
          "base_uri": "https://localhost:8080/"
        },
        "id": "wbwvmyX6UIQo",
        "outputId": "42e46ac7-fde2-4c07-a450-d1fcefd2ca69"
      },
      "execution_count": 103,
      "outputs": [
        {
          "output_type": "stream",
          "name": "stdout",
          "text": [
            "[3.]\n"
          ]
        }
      ]
    },
    {
      "cell_type": "code",
      "source": [
        "# Passando uma matriz para placeholder com 5 colunas\n",
        "p3 = tf.compat.v1.placeholder('float', [None, 5])\n",
        "operacao3 = p3 * 5"
      ],
      "metadata": {
        "id": "sLwZt1OeVgrU"
      },
      "execution_count": 105,
      "outputs": []
    },
    {
      "cell_type": "code",
      "source": [
        "with tf.compat.v1.Session() as sess:\n",
        "  dados = [[1,2,3,4,5], [6,7,8,9,10]]\n",
        "  resultado = sess.run(operacao3, feed_dict={p3: dados})"
      ],
      "metadata": {
        "id": "rsBYAsC_V-XY"
      },
      "execution_count": 106,
      "outputs": []
    },
    {
      "cell_type": "code",
      "source": [
        "resultado"
      ],
      "metadata": {
        "colab": {
          "base_uri": "https://localhost:8080/"
        },
        "id": "ZR6clcJaWGbg",
        "outputId": "b01c4d94-bf1d-433b-ab7e-72c91a53ea56"
      },
      "execution_count": 107,
      "outputs": [
        {
          "output_type": "execute_result",
          "data": {
            "text/plain": [
              "array([[ 5., 10., 15., 20., 25.],\n",
              "       [30., 35., 40., 45., 50.]], dtype=float32)"
            ]
          },
          "metadata": {},
          "execution_count": 107
        }
      ]
    },
    {
      "cell_type": "markdown",
      "source": [
        "# Grafos e Visualização com TensorBoard\n",
        "\n",
        "- Bom usar os escopos para criar grupos e subgrupos quando possui diversos calculos"
      ],
      "metadata": {
        "id": "EXIOiL33WSfy"
      }
    },
    {
      "cell_type": "code",
      "source": [
        "# Definindo escopos\n",
        "\n",
        "with tf.compat.v1.name_scope('Operacoes'):\n",
        "  with tf.compat.v1.name_scope('Escopo_A'):\n",
        "    a = tf.add(2,2, name='add')\n",
        "  with tf.compat.v1.name_scope('Escopo_B'):\n",
        "    b = tf.multiply(a, 3, name='mult1')\n",
        "    c = tf.multiply(b, a, name='mult2')"
      ],
      "metadata": {
        "id": "m3uoKksiWHFY"
      },
      "execution_count": 118,
      "outputs": []
    },
    {
      "cell_type": "code",
      "source": [
        "print(a)\n",
        "print(b)\n",
        "print(c)"
      ],
      "metadata": {
        "colab": {
          "base_uri": "https://localhost:8080/"
        },
        "id": "lG0sHLZmWstB",
        "outputId": "42a0f9d7-0ece-490e-81fa-1ce25f9d105d"
      },
      "execution_count": 119,
      "outputs": [
        {
          "output_type": "stream",
          "name": "stdout",
          "text": [
            "Tensor(\"Operacoes/Escopo_A/add:0\", shape=(), dtype=int32)\n",
            "Tensor(\"Operacoes/Escopo_B/mult1:0\", shape=(), dtype=int32)\n",
            "Tensor(\"Operacoes/Escopo_B/mult2:0\", shape=(), dtype=int32)\n"
          ]
        }
      ]
    },
    {
      "cell_type": "code",
      "source": [
        "# Aqui eu reseto meu graph para eu conseguir gerar outros grafos\n",
        "tf.compat.v1.reset_default_graph"
      ],
      "metadata": {
        "colab": {
          "base_uri": "https://localhost:8080/",
          "height": 187
        },
        "id": "5gS_B1VXXZ-i",
        "outputId": "4192796b-4770-4932-e8d7-99aef1d8da18"
      },
      "execution_count": 120,
      "outputs": [
        {
          "output_type": "execute_result",
          "data": {
            "text/plain": [
              "<function tensorflow.python.framework.ops.reset_default_graph() -> None>"
            ],
            "text/html": [
              "<div style=\"max-width:800px; border: 1px solid var(--colab-border-color);\"><style>\n",
              "      pre.function-repr-contents {\n",
              "        overflow-x: auto;\n",
              "        padding: 8px 12px;\n",
              "        max-height: 500px;\n",
              "      }\n",
              "\n",
              "      pre.function-repr-contents.function-repr-contents-collapsed {\n",
              "        cursor: pointer;\n",
              "        max-height: 100px;\n",
              "      }\n",
              "    </style>\n",
              "    <pre style=\"white-space: initial; background:\n",
              "         var(--colab-secondary-surface-color); padding: 8px 12px;\n",
              "         border-bottom: 1px solid var(--colab-border-color);\"><b>tensorflow.python.framework.ops.reset_default_graph</b><br/>def reset_default_graph() -&gt; None</pre><pre class=\"function-repr-contents function-repr-contents-collapsed\" style=\"\"><a class=\"filepath\" style=\"display:none\" href=\"#\">/usr/local/lib/python3.11/dist-packages/tensorflow/python/framework/ops.py</a>Clears the default graph stack and resets the global default graph.\n",
              "\n",
              "NOTE: The default graph is a property of the current thread. This\n",
              "function applies only to the current thread.  Calling this function while\n",
              "a `tf.compat.v1.Session` or `tf.compat.v1.InteractiveSession` is active will\n",
              "result in undefined\n",
              "behavior. Using any previously created `tf.Operation` or `tf.Tensor` objects\n",
              "after calling this function will result in undefined behavior.\n",
              "\n",
              "@compatibility(TF2)\n",
              "`reset_default_graph` does not work with either eager execution or\n",
              "`tf.function`, and you should not invoke it directly. To migrate code that\n",
              "uses Graph-related functions to TF2, rewrite the code without them. See the\n",
              "[migration guide](https://www.tensorflow.org/guide/migrate) for more\n",
              "description about the behavior and semantic changes between Tensorflow 1 and\n",
              "Tensorflow 2.\n",
              "@end_compatibility\n",
              "\n",
              "Raises:\n",
              "  AssertionError: If this function is called within a nested graph.</pre>\n",
              "      <script>\n",
              "      if (google.colab.kernel.accessAllowed && google.colab.files && google.colab.files.view) {\n",
              "        for (const element of document.querySelectorAll('.filepath')) {\n",
              "          element.style.display = 'block'\n",
              "          element.onclick = (event) => {\n",
              "            event.preventDefault();\n",
              "            event.stopPropagation();\n",
              "            google.colab.files.view(element.textContent, 5087);\n",
              "          };\n",
              "        }\n",
              "      }\n",
              "      for (const element of document.querySelectorAll('.function-repr-contents')) {\n",
              "        element.onclick = (event) => {\n",
              "          event.preventDefault();\n",
              "          event.stopPropagation();\n",
              "          element.classList.toggle('function-repr-contents-collapsed');\n",
              "        };\n",
              "      }\n",
              "      </script>\n",
              "      </div>"
            ]
          },
          "metadata": {},
          "execution_count": 120
        }
      ]
    },
    {
      "cell_type": "code",
      "source": [
        "# Gerando o grafos que foi gerado nessa sessão\n",
        "with tf.compat.v1.Session() as sess:\n",
        "  writer = tf.compat.v1.summary.FileWriter('output', sess.graph) # Criado o arquivo do grafo gerado pelo TensorBoard\n",
        "  print(sess.run(c))\n",
        "  writer.close()"
      ],
      "metadata": {
        "colab": {
          "base_uri": "https://localhost:8080/"
        },
        "id": "OfiwKS8xWuIB",
        "outputId": "a87da670-12b3-4be2-cbcb-0c16b03eda86"
      },
      "execution_count": 122,
      "outputs": [
        {
          "output_type": "stream",
          "name": "stdout",
          "text": [
            "48\n"
          ]
        }
      ]
    },
    {
      "cell_type": "code",
      "source": [],
      "metadata": {
        "id": "mfDiimcmW21a"
      },
      "execution_count": 121,
      "outputs": []
    }
  ]
}