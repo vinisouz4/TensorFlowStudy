{
  "nbformat": 4,
  "nbformat_minor": 0,
  "metadata": {
    "colab": {
      "provenance": [],
      "authorship_tag": "ABX9TyPWDJRIRqKuCPyHQkDN2eGH",
      "include_colab_link": true
    },
    "kernelspec": {
      "name": "python3",
      "display_name": "Python 3"
    },
    "language_info": {
      "name": "python"
    }
  },
  "cells": [
    {
      "cell_type": "markdown",
      "metadata": {
        "id": "view-in-github",
        "colab_type": "text"
      },
      "source": [
        "<a href=\"https://colab.research.google.com/github/vinisouz4/TensorFlowStudy/blob/main/Funcoes.ipynb\" target=\"_parent\"><img src=\"https://colab.research.google.com/assets/colab-badge.svg\" alt=\"Open In Colab\"/></a>"
      ]
    },
    {
      "cell_type": "markdown",
      "source": [
        "# Funções Ativações"
      ],
      "metadata": {
        "id": "oLQ6-0ROnG1Q"
      }
    },
    {
      "cell_type": "code",
      "execution_count": 4,
      "metadata": {
        "id": "Rrwkzq4fvL-D"
      },
      "outputs": [],
      "source": [
        "import numpy as np"
      ]
    },
    {
      "cell_type": "code",
      "source": [
        "# Ste Funça6o Degrau\n",
        "\n",
        "def stepFunction(soma):\n",
        "  if (soma >= 1):\n",
        "    return 1\n",
        "  return 0\n",
        "\n",
        "teste = stepFunction(10)\n",
        "teste"
      ],
      "metadata": {
        "colab": {
          "base_uri": "https://localhost:8080/"
        },
        "id": "-l2YJpPtnDQU",
        "outputId": "4cef4b95-f5ca-41e8-c064-90a8cf4c0b1d"
      },
      "execution_count": 10,
      "outputs": [
        {
          "output_type": "execute_result",
          "data": {
            "text/plain": [
              "1"
            ]
          },
          "metadata": {},
          "execution_count": 10
        }
      ]
    },
    {
      "cell_type": "code",
      "source": [
        "# Função Sigmoide\n",
        "\n",
        "def sigmoidFunction(soma):\n",
        "  return 1 / (1 + np.exp(-soma))\n",
        "\n",
        "teste = sigmoidFunction(0.358)\n",
        "teste"
      ],
      "metadata": {
        "colab": {
          "base_uri": "https://localhost:8080/"
        },
        "id": "QaVXCXbioBzb",
        "outputId": "28b82728-9383-4fa0-b855-00983bd25465"
      },
      "execution_count": 12,
      "outputs": [
        {
          "output_type": "execute_result",
          "data": {
            "text/plain": [
              "0.5885562043858291"
            ]
          },
          "metadata": {},
          "execution_count": 12
        }
      ]
    },
    {
      "cell_type": "code",
      "source": [
        "# Função Hyperbolic Tangent\n",
        "\n",
        "def tanhFunction(soma):\n",
        "  return (np.exp(soma) - np.exp(-soma)) / (np.exp(soma) + np.exp(-soma))\n",
        "\n",
        "teste = tanhFunction(-0.358)\n",
        "teste"
      ],
      "metadata": {
        "colab": {
          "base_uri": "https://localhost:8080/"
        },
        "id": "QuKcq8jioIFb",
        "outputId": "b43f125a-9f36-4e88-a226-f28131f784fa"
      },
      "execution_count": 14,
      "outputs": [
        {
          "output_type": "execute_result",
          "data": {
            "text/plain": [
              "-0.3434511648102781"
            ]
          },
          "metadata": {},
          "execution_count": 14
        }
      ]
    },
    {
      "cell_type": "code",
      "source": [],
      "metadata": {
        "id": "0WRaMnePoYGZ"
      },
      "execution_count": null,
      "outputs": []
    }
  ]
}